{
 "cells": [
  {
   "cell_type": "code",
   "execution_count": 29,
   "metadata": {},
   "outputs": [
    {
     "name": "stdout",
     "output_type": "stream",
     "text": [
      "[0. 0. 0. 0. 1. 0. 0. 0. 0. 0.]\n"
     ]
    }
   ],
   "source": [
    "import numpy as np\n",
    "x = np.zeros(10)\n",
    "x[4]=1\n",
    "print(x)"
   ]
  },
  {
   "cell_type": "code",
   "execution_count": 30,
   "metadata": {},
   "outputs": [],
   "source": [
    "l = l[::-1]"
   ]
  },
  {
   "cell_type": "code",
   "execution_count": 31,
   "metadata": {},
   "outputs": [
    {
     "data": {
      "text/plain": [
       "array([0., 0., 0., 0., 1., 0., 0., 0., 0., 0.])"
      ]
     },
     "execution_count": 31,
     "metadata": {},
     "output_type": "execute_result"
    }
   ],
   "source": [
    "l"
   ]
  },
  {
   "cell_type": "code",
   "execution_count": 32,
   "metadata": {},
   "outputs": [
    {
     "data": {
      "text/plain": [
       "array([[0, 1, 2],\n",
       "       [3, 4, 5],\n",
       "       [6, 7, 8]])"
      ]
     },
     "execution_count": 32,
     "metadata": {},
     "output_type": "execute_result"
    }
   ],
   "source": [
    "k = np.arange(9)\n",
    "k.reshape(3, 3)"
   ]
  },
  {
   "cell_type": "code",
   "execution_count": 33,
   "metadata": {},
   "outputs": [
    {
     "name": "stdout",
     "output_type": "stream",
     "text": [
      "0 1 0 1 0 1 0 1\n",
      "1 0 1 0 1 0 1 0\n",
      "0 1 0 1 0 1 0 1\n",
      "1 0 1 0 1 0 1 0\n",
      "0 1 0 1 0 1 0 1\n",
      "1 0 1 0 1 0 1 0\n",
      "0 1 0 1 0 1 0 1\n",
      "1 0 1 0 1 0 1 0\n"
     ]
    }
   ],
   "source": [
    "l = np.zeros((8, 8))\n",
    "l = [[str((i+j) % 2) for j in range(8)] for i in range(8)]\n",
    "l = '\\n'.join(' '.join(ln) for ln in l)\n",
    "print(l)"
   ]
  },
  {
   "cell_type": "code",
   "execution_count": 35,
   "metadata": {},
   "outputs": [],
   "source": [
    "def g(x = []):\n",
    "    r = np.sqrt(x[0]**2 + x[1]**2)\n",
    "    phi = np.arctan2(x[1], x[0])\n",
    "    return(r, phi)"
   ]
  },
  {
   "cell_type": "code",
   "execution_count": 36,
   "metadata": {},
   "outputs": [],
   "source": [
    "y = np.random.random((10, 2))"
   ]
  },
  {
   "cell_type": "code",
   "execution_count": 37,
   "metadata": {},
   "outputs": [
    {
     "data": {
      "text/plain": [
       "array([[0.6587619 , 0.715214  ],\n",
       "       [0.26319208, 0.69449306],\n",
       "       [0.38574977, 0.54320978],\n",
       "       [0.46262377, 0.26414755],\n",
       "       [0.40117638, 0.58769945],\n",
       "       [0.83761644, 0.72770006],\n",
       "       [0.20137982, 0.81979778],\n",
       "       [0.89414408, 0.07600417],\n",
       "       [0.28275577, 0.88599087],\n",
       "       [0.43762659, 0.64650091]])"
      ]
     },
     "execution_count": 37,
     "metadata": {},
     "output_type": "execute_result"
    }
   ],
   "source": [
    "y"
   ]
  },
  {
   "cell_type": "code",
   "execution_count": 38,
   "metadata": {},
   "outputs": [],
   "source": [
    "p = list(map(f, y))"
   ]
  },
  {
   "cell_type": "code",
   "execution_count": 39,
   "metadata": {},
   "outputs": [
    {
     "data": {
      "text/plain": [
       "[(0.9723673732337317, 0.8264617351021413),\n",
       " (0.7426915098667496, 1.2085496015403157),\n",
       " (0.6662430099552613, 0.9533037444034611),\n",
       " (0.5327238356243706, 0.5188056628587443),\n",
       " (0.7115708888863509, 0.9718291364549684),\n",
       " (1.109571393947617, 0.7152933298792231),\n",
       " (0.8441695500664209, 1.3299199802159218),\n",
       " (0.897368523838784, 0.08479830770778111),\n",
       " (0.9300164778709946, 1.2618730356264918),\n",
       " (0.7806922934293828, 0.975731783538362)]"
      ]
     },
     "execution_count": 39,
     "metadata": {},
     "output_type": "execute_result"
    }
   ],
   "source": [
    "p"
   ]
  },
  {
   "cell_type": "code",
   "execution_count": 27,
   "metadata": {},
   "outputs": [],
   "source": [
    "import matplotlib.pyplot as plt"
   ]
  },
  {
   "cell_type": "code",
   "execution_count": 40,
   "metadata": {},
   "outputs": [
    {
     "data": {
      "image/png": "[encoded data removed]",
      "text/plain": [
       "<Figure size 432x288 with 1 Axes>"
      ]
     },
     "metadata": {
      "needs_background": "light"
     },
     "output_type": "display_data"
    }
   ],
   "source": [
    "phi = np.arange(0, 2*np.pi, 0.001)\n",
    "x1 = [(1 + np.cos(_))*np.cos(_) for _ in phi]\n",
    "y1 = [(1 + np.cos(_))*np.sin(_) for _ in phi]\n",
    "x3 = [(3 + np.cos(_))*np.cos(_) for _ in phi]\n",
    "y3 = [(3 + np.cos(_))*np.sin(_) for _ in phi]\n",
    "x5 = [(5 + np.cos(_))*np.cos(_) for _ in phi]\n",
    "y5 = [(5 + np.cos(_))*np.sin(_) for _ in phi]\n",
    "plt.plot(x1, y1)\n",
    "plt.plot(x3, y3)\n",
    "plt.plot(x5, y5)\n",
    "plt.show()"
   ]
  },
  {
   "cell_type": "code",
   "execution_count": null,
   "metadata": {},
   "outputs": [],
   "source": []
  }
 ],
 "metadata": {
  "kernelspec": {
   "display_name": "Python 3",
   "language": "python",
   "name": "python3"
  },
  "language_info": {
   "codemirror_mode": {
    "name": "ipython",
    "version": 3
   },
   "file_extension": ".py",
   "mimetype": "text/x-python",
   "name": "python",
   "nbconvert_exporter": "python",
   "pygments_lexer": "ipython3",
   "version": "3.7.1"
  }
 },
 "nbformat": 4,
 "nbformat_minor": 2
}
